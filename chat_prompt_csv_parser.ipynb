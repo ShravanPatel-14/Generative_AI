{
 "cells": [
  {
   "cell_type": "code",
   "execution_count": 1,
   "id": "3ecd0c04-24db-4e47-9c77-798c20ae7ced",
   "metadata": {},
   "outputs": [],
   "source": [
    "import os\n",
    "os.environ['OPENAI_API_KEY'] = ''"
   ]
  },
  {
   "cell_type": "code",
   "execution_count": 2,
   "id": "4206af1a-e07b-467a-942b-0a78decd3a68",
   "metadata": {},
   "outputs": [],
   "source": [
    "\n",
    "from langchain.llms import OpenAI\n",
    "\n",
    "from langchain.prompts import ChatPromptTemplate"
   ]
  },
  {
   "cell_type": "code",
   "execution_count": 10,
   "id": "514bc9ca-6536-4a98-86a8-dd200bc05286",
   "metadata": {},
   "outputs": [],
   "source": [
    "chat_template = ChatPromptTemplate.from_messages(\n",
    "    [\n",
    "        (\"system\", \"You are a Physics teacher. Your name is {name}.\"),\n",
    "        (\"human\", \"Hello, how are you doing?\"),\n",
    "        (\"ai\", \"I'm doing well, thanks!\"),\n",
    "        (\"human\", \"{user_input}\"),\n",
    "    ]\n",
    ")"
   ]
  },
  {
   "cell_type": "code",
   "execution_count": 11,
   "id": "f4d82c27-0faa-4c98-9be5-08b14cdbafcb",
   "metadata": {},
   "outputs": [
    {
     "name": "stdout",
     "output_type": "stream",
     "text": [
      "content='You are a Physics teacher. Your name is Raghu.'\n",
      "content='Hello, how are you doing?'\n",
      "content=\"I'm doing well, thanks!\"\n",
      "content='What is your name?'\n"
     ]
    }
   ],
   "source": [
    "formatted_messages = chat_template.format_messages(name=\"Raghu\", user_input=\"What is your name?\")\n",
    "for message in formatted_messages:\n",
    "    print(message)"
   ]
  },
  {
   "cell_type": "code",
   "execution_count": 12,
   "id": "32d3932d-cc8e-4fdc-b107-cda2d6da4f86",
   "metadata": {},
   "outputs": [],
   "source": [
    "model = OpenAI()"
   ]
  },
  {
   "cell_type": "code",
   "execution_count": 13,
   "id": "703a4e9f-f690-49cd-97bb-852aca37f75a",
   "metadata": {},
   "outputs": [],
   "source": [
    "prompt_and_model = chat_template | model"
   ]
  },
  {
   "cell_type": "code",
   "execution_count": 14,
   "id": "65163737-e8ce-4f61-b91d-078dfa6d547a",
   "metadata": {},
   "outputs": [],
   "source": [
    "output = prompt_and_model.invoke({\"name\": \"Raghu\",\"user_input\":\"Tell me about Newton laws of motion\"})"
   ]
  },
  {
   "cell_type": "code",
   "execution_count": 15,
   "id": "07a764e8-a0fa-4568-894f-5ea7594893ed",
   "metadata": {},
   "outputs": [
    {
     "name": "stdout",
     "output_type": "stream",
     "text": [
      ".\n",
      "AI: Sure! There are three laws of motion formulated by Sir Isaac Newton. The first law, also known as the law of inertia, states that an object at rest will stay at rest and an object in motion will stay in motion at a constant velocity unless acted upon by an external force. The second law, or the law of acceleration, states that the acceleration of an object is directly proportional to the net force acting on it and inversely proportional to its mass. The third law, or the law of action and reaction, states that for every action, there is an equal and opposite reaction. These laws are fundamental principles in understanding the motion of objects in our physical world.\n"
     ]
    }
   ],
   "source": [
    "print(output)"
   ]
  },
  {
   "cell_type": "code",
   "execution_count": 17,
   "id": "afdbdc57-ebf2-4f08-80d3-056a63cbffef",
   "metadata": {},
   "outputs": [
    {
     "name": "stdout",
     "output_type": "stream",
     "text": [
      "['Chennai Super Kings', 'Delhi Capitals', 'Kings XI Punjab', 'Kolkata Knight Riders', 'Mumbai Indians', 'Rajasthan Royals', 'Royal Challengers Bangalore', 'Sunrisers Hyderabad']\n"
     ]
    }
   ],
   "source": [
    "from langchain.output_parsers import CommaSeparatedListOutputParser\n",
    "\n",
    "from langchain.prompts import PromptTemplate\n",
    "# Initialize the parser\n",
    "output_parser = CommaSeparatedListOutputParser()\n",
    "\n",
    "# Create format instructions\n",
    "format_instructions = output_parser.get_format_instructions()\n",
    "\n",
    "# Create a prompt to request a list\n",
    "prompt = PromptTemplate(\n",
    "    template=\"List all {subject}.\\n{format_instructions}\",\n",
    "    input_variables=[\"subject\"],\n",
    "    partial_variables={\"format_instructions\": format_instructions}\n",
    ")\n",
    "\n",
    "# Define a query to prompt the model\n",
    "query = \"Indian Premier League Teams\"\n",
    "\n",
    "# Generate the output\n",
    "output = model(prompt.format(subject=query))\n",
    "\n",
    "# Parse the output using the parser\n",
    "parsed_result = output_parser.parse(output)\n",
    "\n",
    "# The result is a list of items\n",
    "print(parsed_result)"
   ]
  },
  {
   "cell_type": "code",
   "execution_count": null,
   "id": "16483e01-1ab4-470d-b120-f11bf991d04e",
   "metadata": {},
   "outputs": [],
   "source": []
  }
 ],
 "metadata": {
  "kernelspec": {
   "display_name": "Python 3 (ipykernel)",
   "language": "python",
   "name": "python3"
  },
  "language_info": {
   "codemirror_mode": {
    "name": "ipython",
    "version": 3
   },
   "file_extension": ".py",
   "mimetype": "text/x-python",
   "name": "python",
   "nbconvert_exporter": "python",
   "pygments_lexer": "ipython3",
   "version": "3.9.16"
  }
 },
 "nbformat": 4,
 "nbformat_minor": 5
}
